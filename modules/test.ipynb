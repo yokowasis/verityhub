{
 "cells": [
  {
   "cell_type": "code",
   "execution_count": 16,
   "metadata": {},
   "outputs": [],
   "source": [
    "import os\n",
    "from dotenv import load_dotenv\n",
    "from supabase import create_client, Client\n",
    "import json\n",
    "\n",
    "load_dotenv()\n",
    "\n",
    "\n",
    "url = os.getenv(\"SUPABASE_URL\")\n",
    "key = os.getenv(\"SUPABASE_SERVICE_KEY\")\n",
    "db: Client = create_client(url, key)"
   ]
  },
  {
   "cell_type": "code",
   "execution_count": 10,
   "metadata": {},
   "outputs": [
    {
     "name": "stdout",
     "output_type": "stream",
     "text": [
      "fd7039e6-3f18-425f-89af-3db3400a98b7\n"
     ]
    }
   ],
   "source": [
    "try:\n",
    "    p = db.auth.sign_in_with_password(credentials={\n",
    "        \"email\": \"yokowasis@verityhub.id\",\n",
    "        \"password\": \"123123123\"\n",
    "    })\n",
    "\n",
    "    print (p.user.id)\n",
    "\n",
    "\n",
    "except:\n",
    "    print(\"Error\")"
   ]
  },
  {
   "cell_type": "code",
   "execution_count": 18,
   "metadata": {},
   "outputs": [
    {
     "data": {
      "text/plain": [
       "'{\"handler\": \"yokowasis\", \"full_name\": \"Wasis Sasoko\", \"avatar\": \"https://avatars.githubusercontent.com/u/1374064\"}'"
      ]
     },
     "execution_count": 18,
     "metadata": {},
     "output_type": "execute_result"
    }
   ],
   "source": [
    "rows = db.table(\"users\").select(\"handler, full_name, avatar\").eq(\n",
    "    \"user_id\", \"fd7039e6-3f18-425f-89af-3db3400a98b7\").execute()\n",
    "\n",
    "json.dumps(rows.data[0])"
   ]
  },
  {
   "cell_type": "code",
   "execution_count": 32,
   "metadata": {},
   "outputs": [
    {
     "name": "stdout",
     "output_type": "stream",
     "text": [
      "yokowasis\n"
     ]
    }
   ],
   "source": [
    "from pydantic import BaseModel\n",
    "\n",
    "\n",
    "data = json.loads(json.dumps({\n",
    "  \"handler\": \"yokowasis\",\n",
    "  \"full_name\": \"yokowasis\",\n",
    "}))\n",
    "\n",
    "data['handler']\n",
    "\n",
    "class UserData(BaseModel):\n",
    "  handler: str\n",
    "  full_name: str\n",
    "\n",
    "data = UserData(**data)\n",
    "print (data.handler)"
   ]
  },
  {
   "cell_type": "code",
   "execution_count": 5,
   "metadata": {},
   "outputs": [
    {
     "name": "stdout",
     "output_type": "stream",
     "text": [
      "\n",
      "      <div class=\"post\">\n",
      "        <v-profile\n",
      "        fullname=\"Wasis Sasoko\" \n",
      "        handler=\"$yokowasis\" \n",
      "        avatar=\"https://avatars.githubusercontent.com/u/1374064\"\n",
      "        ></v-profile>\n",
      "        <div class=\"content\">\n",
      "          <p>Hello, VerityHubbers! 🎉 We're excited to kick off a new era of social media where <strong>privacy</strong> meets <strong>meaningful discovery</strong>. Our community is built on trust, knowledge, and innovation. 🔍✨</p>\n",
      "<p>Here&rsquo;s what you can do:</p>\n",
      "<ul>\n",
      "<li><strong>Share your thoughts</strong> on topics that matter</li>\n",
      "<li><strong>Find reliable insights</strong> through advanced search tools</li>\n",
      "<li>Connect with a community that values <strong>clarity and truth</strong></li>\n",
      "</ul>\n",
      "<p>Jump in and let&rsquo;s build something amazing together! 🎈</p>\n",
      "<p>#VerityHub #NewConnections #PrivacyFirst #DiscoverMore #Community</p>\n",
      "        </div>\n",
      "      </div>\n",
      "      \n",
      "      <div class=\"post\">\n",
      "        <v-profile\n",
      "        fullname=\"Wasis Sasoko\" \n",
      "        handler=\"$yokowasis\" \n",
      "        avatar=\"https://avatars.githubusercontent.com/u/1374064\"\n",
      "        ></v-profile>\n",
      "        <div class=\"content\">\n",
      "          <p>🤔 <strong>Did You Know?</strong> 🤔</p>\n",
      "<p>Drinking water first thing in the morning can kick-start your metabolism by up to <strong>30%</strong>! 💧 Not only does it help wake you up, but it also supports better digestion throughout the day.</p>\n",
      "<p>Give it a try and see how you feel! 🌅</p>\n",
      "<p>#DidYouKnow #HealthTips #VerityHubFacts</p>\n",
      "        </div>\n",
      "      </div>\n",
      "      \n"
     ]
    }
   ],
   "source": [
    "def getAllPosts():\n",
    "    rows = db.table(\"posts\").select(\"id,content,user: users(id,full_name,handler,avatar)\").order(column=\"created_at\", desc=False).limit(10).execute()\n",
    "\n",
    "    return rows\n",
    "\n",
    "rows = getAllPosts()\n",
    "\n",
    "html = \"\"\n",
    "\n",
    "for row in rows.data:\n",
    "    html += f\"\"\"\n",
    "      <div class=\"post\">\n",
    "        <v-profile\n",
    "        fullname=\"{row['user']['full_name']}\" \n",
    "        handler=\"${row['user']['handler']}\" \n",
    "        avatar=\"{row['user']['avatar']}\"\n",
    "        ></v-profile>\n",
    "        <div class=\"content\">\n",
    "          {row['content']}\n",
    "        </div>\n",
    "      </div>\n",
    "      \"\"\"\n",
    "    \n",
    "print(html)\n"
   ]
  }
 ],
 "metadata": {
  "kernelspec": {
   "display_name": "Python 3",
   "language": "python",
   "name": "python3"
  },
  "language_info": {
   "codemirror_mode": {
    "name": "ipython",
    "version": 3
   },
   "file_extension": ".py",
   "mimetype": "text/x-python",
   "name": "python",
   "nbconvert_exporter": "python",
   "pygments_lexer": "ipython3",
   "version": "3.10.15"
  }
 },
 "nbformat": 4,
 "nbformat_minor": 2
}
